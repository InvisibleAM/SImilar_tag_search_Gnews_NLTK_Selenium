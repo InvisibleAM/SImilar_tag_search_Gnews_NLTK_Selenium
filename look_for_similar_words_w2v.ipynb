{
  "cells": [
    {
      "cell_type": "code",
      "execution_count": null,
      "metadata": {
        "colab": {
          "base_uri": "https://localhost:8080/"
        },
        "collapsed": true,
        "id": "6BO1kSV01QyC",
        "outputId": "01fe3976-1532-4892-c1e2-ce8f3b9b970c"
      },
      "outputs": [
        {
          "output_type": "stream",
          "name": "stderr",
          "text": [
            "[nltk_data] Downloading package brown to /root/nltk_data...\n",
            "[nltk_data]   Unzipping corpora/brown.zip.\n"
          ]
        },
        {
          "output_type": "execute_result",
          "data": {
            "text/plain": [
              "True"
            ]
          },
          "metadata": {},
          "execution_count": 2
        }
      ],
      "source": [
        "import gensim\n",
        "import nltk\n",
        "nltk.download('brown')"
      ]
    },
    {
      "cell_type": "markdown",
      "metadata": {
        "id": "200WqDf81QyE"
      },
      "source": [
        "Train the model\n"
      ]
    },
    {
      "cell_type": "code",
      "execution_count": null,
      "metadata": {
        "collapsed": true,
        "id": "ntMyhWJ21QyE"
      },
      "outputs": [],
      "source": [
        "from nltk.corpus import brown\n",
        "model = gensim.models.Word2Vec(brown.sents())"
      ]
    },
    {
      "cell_type": "code",
      "execution_count": null,
      "metadata": {
        "collapsed": true,
        "id": "uWOArC8j1QyF"
      },
      "outputs": [],
      "source": [
        "model.save('brown.embedding')\n",
        "new_model = gensim.models.Word2Vec.load('brown.embedding')"
      ]
    },
    {
      "cell_type": "code",
      "execution_count": null,
      "metadata": {
        "colab": {
          "base_uri": "https://localhost:8080/"
        },
        "collapsed": true,
        "id": "NaIuU2iq1QyH",
        "outputId": "8378ef93-b2ea-4ebf-80ab-2f66ef44df1a"
      },
      "outputs": [
        {
          "output_type": "stream",
          "name": "stderr",
          "text": [
            "[nltk_data] Downloading package word2vec_sample to /root/nltk_data...\n",
            "[nltk_data]   Unzipping models/word2vec_sample.zip.\n"
          ]
        }
      ],
      "source": [
        "from nltk.data import find\n",
        "nltk.download('word2vec_sample')\n",
        "word2vec_sample = str(find('models/word2vec_sample/pruned.word2vec.txt'))\n",
        "model = gensim.models.KeyedVectors.load_word2vec_format(word2vec_sample, binary=False)"
      ]
    },
    {
      "cell_type": "code",
      "execution_count": null,
      "metadata": {
        "colab": {
          "base_uri": "https://localhost:8080/"
        },
        "id": "DLyXIKBk1QyJ",
        "outputId": "5c531ef4-d5b1-4b3b-8a23-f87d1b81d6e8"
      },
      "outputs": [
        {
          "data": {
            "text/plain": [
              "[('fertilizers', 0.8416745662689209),\n",
              " ('urea', 0.6518604159355164),\n",
              " ('nitrogen', 0.5842714309692383)]"
            ]
          },
          "execution_count": 9,
          "metadata": {},
          "output_type": "execute_result"
        }
      ],
      "source": [
        "model.most_similar(positive=['fertilizer'], topn = 3)"
      ]
    },
    {
      "cell_type": "code",
      "execution_count": null,
      "metadata": {
        "colab": {
          "base_uri": "https://localhost:8080/"
        },
        "id": "SUlHELvi1QyJ",
        "outputId": "a5dd0e0f-3c4d-4b28-c12b-5e8cdf0edefb"
      },
      "outputs": [
        {
          "data": {
            "text/plain": [
              "[('insecticides', 0.7645138502120972),\n",
              " ('chemicals', 0.6866016983985901),\n",
              " ('insecticide', 0.6755179762840271),\n",
              " ('fertilizers', 0.6051387190818787),\n",
              " ('fungicides', 0.5984570980072021),\n",
              " ('heptachlor', 0.5786290764808655),\n",
              " ('pests', 0.5362680554389954),\n",
              " ('poisons', 0.5350396633148193),\n",
              " ('solvents', 0.5323522090911865),\n",
              " ('chemical', 0.5286749601364136)]"
            ]
          },
          "execution_count": 10,
          "metadata": {},
          "output_type": "execute_result"
        }
      ],
      "source": [
        "model.most_similar(positive=['pesticides'], topn = 10)"
      ]
    },
    {
      "cell_type": "code",
      "execution_count": null,
      "metadata": {
        "colab": {
          "base_uri": "https://localhost:8080/"
        },
        "id": "0JovmlxM1QyJ",
        "outputId": "0273d530-ec0c-4d23-bcfd-50e585322a6a"
      },
      "outputs": [
        {
          "output_type": "execute_result",
          "data": {
            "text/plain": [
              "['grain',\n",
              " 'barley',\n",
              " 'corn',\n",
              " 'grains',\n",
              " 'oilseed',\n",
              " 'soybeans',\n",
              " 'soybean',\n",
              " 'oilseeds',\n",
              " 'rice',\n",
              " 'potato']"
            ]
          },
          "metadata": {},
          "execution_count": 21
        }
      ],
      "source": [
        "w=[]\n",
        "for i in range(10):\n",
        "  w.append(model.most_similar(positive=['wheat'], topn = 10)[i][0])\n",
        "\n",
        "w"
      ]
    },
    {
      "cell_type": "code",
      "execution_count": null,
      "metadata": {
        "colab": {
          "base_uri": "https://localhost:8080/"
        },
        "id": "BQ1q-3UO1QyJ",
        "outputId": "6dbd79e6-160c-4ea7-f488-5537fbd06ac7"
      },
      "outputs": [
        {
          "data": {
            "text/plain": [
              "[('farmers', 0.7689828872680664),\n",
              " ('grower', 0.7284642457962036),\n",
              " ('farm', 0.7109191417694092),\n",
              " ('farming', 0.686630368232727),\n",
              " ('farms', 0.6068781614303589),\n",
              " ('growers', 0.5963858366012573),\n",
              " ('orchard', 0.577340841293335),\n",
              " ('rancher', 0.5738171339035034),\n",
              " ('agricultural', 0.5687295198440552),\n",
              " ('Farmers', 0.5667740106582642)]"
            ]
          },
          "execution_count": 12,
          "metadata": {},
          "output_type": "execute_result"
        }
      ],
      "source": [
        "model.most_similar(positive=['farmer'], topn = 10)"
      ]
    },
    {
      "cell_type": "markdown",
      "metadata": {
        "id": "TrFnQRpK1QyK"
      },
      "source": [
        "\n",
        "Finding a word that is not in a list is also supported, although, implementing this by yourself is simple."
      ]
    },
    {
      "cell_type": "code",
      "execution_count": null,
      "metadata": {
        "colab": {
          "base_uri": "https://localhost:8080/",
          "height": 90
        },
        "id": "PFfn6jRM1QyK",
        "outputId": "3e090bcb-1aed-482b-adc2-1eeb6145c138"
      },
      "outputs": [
        {
          "name": "stderr",
          "output_type": "stream",
          "text": [
            "/usr/local/lib/python3.8/dist-packages/gensim/models/keyedvectors.py:895: FutureWarning: arrays to stack must be passed as a \"sequence\" type such as list or tuple. Support for non-sequence iterables such as generators is deprecated as of NumPy 1.16 and will raise an error in the future.\n",
            "  vectors = vstack(self.word_vec(word, use_norm=True) for word in used_words).astype(REAL)\n"
          ]
        },
        {
          "data": {
            "application/vnd.google.colaboratory.intrinsic+json": {
              "type": "string"
            },
            "text/plain": [
              "'cereal'"
            ]
          },
          "execution_count": 13,
          "metadata": {},
          "output_type": "execute_result"
        }
      ],
      "source": [
        "model.doesnt_match('breakfast cereal dinner lunch'.split())"
      ]
    },
    {
      "cell_type": "code",
      "execution_count": null,
      "metadata": {
        "colab": {
          "base_uri": "https://localhost:8080/",
          "height": 36
        },
        "id": "OOKZWea01QyK",
        "outputId": "8fa2caff-f345-4945-e7fc-11bb77479b1a"
      },
      "outputs": [
        {
          "data": {
            "application/vnd.google.colaboratory.intrinsic+json": {
              "type": "string"
            },
            "text/plain": [
              "'chair'"
            ]
          },
          "execution_count": 14,
          "metadata": {},
          "output_type": "execute_result"
        }
      ],
      "source": [
        "model.doesnt_match('table chair dish napkin'.split())"
      ]
    },
    {
      "cell_type": "code",
      "execution_count": null,
      "metadata": {
        "colab": {
          "base_uri": "https://localhost:8080/",
          "height": 36
        },
        "id": "_GKeViyq1QyK",
        "outputId": "27ef197f-4726-4e5c-c437-e68c4b84d740"
      },
      "outputs": [
        {
          "data": {
            "application/vnd.google.colaboratory.intrinsic+json": {
              "type": "string"
            },
            "text/plain": [
              "'fork'"
            ]
          },
          "execution_count": 15,
          "metadata": {},
          "output_type": "execute_result"
        }
      ],
      "source": [
        "model.doesnt_match('rice cereal milk spoon fork'.split())"
      ]
    },
    {
      "cell_type": "code",
      "execution_count": null,
      "metadata": {
        "colab": {
          "base_uri": "https://localhost:8080/",
          "height": 36
        },
        "id": "4KTxF6Ag1QyK",
        "outputId": "50a8fae3-4dd7-4295-a3ff-eba6250c2e10"
      },
      "outputs": [
        {
          "data": {
            "application/vnd.google.colaboratory.intrinsic+json": {
              "type": "string"
            },
            "text/plain": [
              "'pine'"
            ]
          },
          "execution_count": 16,
          "metadata": {},
          "output_type": "execute_result"
        }
      ],
      "source": [
        "model.doesnt_match('grape banana orange pineapple pine apple'.split())"
      ]
    },
    {
      "cell_type": "markdown",
      "metadata": {
        "id": "_hq5v7Xh1QyK"
      },
      "source": [
        "Mikolov et al. (2013) figured out that word embedding captures much of syntactic and semantic regularities. For example,\n",
        "the vector 'King - Man + Woman' is close to 'Queen' and 'Germany - Berlin + Paris' is close to 'France'."
      ]
    },
    {
      "cell_type": "code",
      "execution_count": null,
      "metadata": {
        "colab": {
          "base_uri": "https://localhost:8080/"
        },
        "id": "VOGaWdGc1QyL",
        "outputId": "d1d8b809-4c09-4933-abcd-29a658151610"
      },
      "outputs": [
        {
          "data": {
            "text/plain": [
              "[('queen', 0.7118192911148071),\n",
              " ('monarch', 0.6189673542976379),\n",
              " ('princess', 0.5902431011199951),\n",
              " ('prince', 0.5377321243286133),\n",
              " ('kings', 0.5236842632293701),\n",
              " ('queens', 0.5181134939193726),\n",
              " ('throne', 0.5005807876586914),\n",
              " ('royal', 0.493820458650589),\n",
              " ('ruler', 0.49092739820480347),\n",
              " ('princes', 0.481081485748291)]"
            ]
          },
          "execution_count": 17,
          "metadata": {},
          "output_type": "execute_result"
        }
      ],
      "source": [
        "model.most_similar(positive=['woman','king'], negative=['man'], topn = 10)"
      ]
    },
    {
      "cell_type": "code",
      "execution_count": null,
      "metadata": {
        "colab": {
          "base_uri": "https://localhost:8080/"
        },
        "id": "aGRkyvLr1QyL",
        "outputId": "53744707-a949-4b4f-836c-ee4090a2ff51"
      },
      "outputs": [
        {
          "data": {
            "text/plain": [
              "[('France', 0.7884092330932617)]"
            ]
          },
          "execution_count": 18,
          "metadata": {},
          "output_type": "execute_result"
        }
      ],
      "source": [
        "model.most_similar(positive=['Paris','Germany'], negative=['Berlin'], topn = 1)"
      ]
    },
    {
      "cell_type": "code",
      "execution_count": null,
      "metadata": {
        "colab": {
          "base_uri": "https://localhost:8080/"
        },
        "id": "zH0kMEsp1QyL",
        "outputId": "7bb6c330-0688-4201-813a-2e3ef80f3917"
      },
      "outputs": [
        {
          "data": {
            "text/plain": [
              "[('Chinese', 0.5700207948684692),\n",
              " ('Korea', 0.5559492111206055),\n",
              " ('Taiwan', 0.5426726341247559),\n",
              " ('Han', 0.47861379384994507),\n",
              " ('Korean', 0.46403324604034424),\n",
              " ('Yang', 0.45829707384109497),\n",
              " ('Chen', 0.45038238167762756),\n",
              " ('ROK', 0.44999659061431885),\n",
              " ('Hong', 0.43401989340782166),\n",
              " ('Koreans', 0.4302004277706146)]"
            ]
          },
          "execution_count": 19,
          "metadata": {},
          "output_type": "execute_result"
        }
      ],
      "source": [
        "model.most_similar(positive=['Seoul','Germany', 'China'], negative=['Berlin', 'Japan'], topn = 10)"
      ]
    },
    {
      "cell_type": "code",
      "execution_count": null,
      "metadata": {
        "colab": {
          "base_uri": "https://localhost:8080/"
        },
        "id": "eKQMd9Em1QyL",
        "outputId": "cedc9080-90a5-43d8-921e-9e97f67036c2"
      },
      "outputs": [
        {
          "data": {
            "text/plain": [
              "[('Korea', 0.7158548831939697),\n",
              " ('Japan', 0.6474897861480713),\n",
              " ('Korean', 0.5727678537368774),\n",
              " ('Koreans', 0.5649488568305969),\n",
              " ('China', 0.5282886028289795),\n",
              " ('Taiwan', 0.5228532552719116),\n",
              " ('GNP', 0.5122469663619995),\n",
              " ('ROK', 0.49106550216674805),\n",
              " ('Thailand', 0.48111724853515625),\n",
              " ('Japanese', 0.47442716360092163)]"
            ]
          },
          "execution_count": 20,
          "metadata": {},
          "output_type": "execute_result"
        }
      ],
      "source": [
        "model.most_similar(positive=['Seoul','Germany'], negative=['Berlin'], topn = 10)"
      ]
    },
    {
      "cell_type": "markdown",
      "source": [
        "## Creating an array of words to use for keywords extraction."
      ],
      "metadata": {
        "id": "Qrka_ptgoIKz"
      }
    },
    {
      "cell_type": "code",
      "source": [
        "word = ['Alkali Soil',\n",
        " 'Alkaline Soil',\n",
        " 'Annual Crops',\n",
        " 'Available Soil Moisture (ASM)',\n",
        " 'Available Soil Moisture Capacity',\n",
        " 'Base Period',\n",
        " 'Cash Crops',\n",
        " 'Coefficient of Uniformity (UC)',\n",
        " 'Crop Expenditure',\n",
        " 'Crop Rotation',\n",
        " 'Cropping intensity',\n",
        " 'Cropping Pattern',\n",
        " 'Daily Consumptive Use',\n",
        " 'Deep Percolation Loss',\n",
        " 'Gross Cropped Area (GCA) (or Cropped Area)',\n",
        " 'Gross Farm Income',\n",
        " 'Kharif crops',\n",
        " 'Mixed Crop',\n",
        " 'Monocropping',\n",
        " 'Mulching',\n",
        " 'Multiple cropping',\n",
        " 'Net Cropped Area (Net Area Sown)',\n",
        " 'Net Income from Cropped Production',\n",
        " 'Operational Holding',\n",
        " 'Overlapping crop',\n",
        " 'Perennial crops',\n",
        " 'Rabi Crops',\n",
        " 'Relay Cropping',\n",
        " 'Single Crop',\n",
        " 'Soil Moisture',\n",
        " 'Soil Moisture Content',\n",
        " 'Soil Moisture Deficit ( SMD )',\n",
        " 'Summer Crop',\n",
        " 'Wetland Crop','rice','wheat','maize','ragi','sorghum','blackgram','greengram','soybean','sunflower','groundnut','cotton','fibre crops', 'sugar crops' ,'forage crops' , 'crop dieases', 'rice blast'\t,'brown spot' ,'loose smut' , 'brown rust' ,'seed', 'fertilizers','scheme','irrigation', 'pesticides']\n",
        "word=list(map(str.lower,words))\n",
        "\n",
        "words=[]\n",
        "for w in word:\n",
        "  w = w.replace(' ', '_')\n",
        "  words.append(w)\n",
        "\n",
        "\n",
        "wd= []\n",
        "for d in words:\n",
        "  for i in range(10):\n",
        "    if d in model.vocab:\n",
        "      wd.append(model.most_similar(positive=[d], topn = 10)[i][0])\n",
        "    else:\n",
        "      break\n",
        "wd=wd+words\n",
        "res = []\n",
        "[res.append(x) for x in wd if x not in res]\n",
        "str(res)"
      ],
      "metadata": {
        "colab": {
          "base_uri": "https://localhost:8080/",
          "height": 262
        },
        "id": "ZqED7FUeoQma",
        "outputId": "b7aa7ccc-1920-45d5-ef53-e7911557e7ef"
      },
      "execution_count": null,
      "outputs": [
        {
          "output_type": "execute_result",
          "data": {
            "text/plain": [
              "\"['mulch', 'disking', 'compost', 'weeds', 'shrubs', 'landscaping', 'gardening', 'planting', 'aeration', 'tilling', 'wheat', 'flour', 'lentils', 'corn', 'sago', 'sorghum', 'grains', 'copra', 'onions', 'bean', 'grain', 'barley', 'oilseed', 'soybeans', 'soybean', 'oilseeds', 'rice', 'potato', 'crops', 'cottonseed', 'cotton', 'forages', 'Soybean', 'soy', 'Soybeans', 'Cotton', 'textile', 'wool', 'bales', 'seeds', 'Seed', 'Seeds', 'ranked', 'round', 'No.', 'bye', 'bracket', 'perilla', 'seedlings', 'fertilizer', 'urea', 'pesticides', 'insecticides', 'chemicals', 'fungicides', 'irrigation', 'agricultural', 'phosphates', 'nitrogen', 'schemes', 'program', 'plan', 'arrangement', 'initiative', 'ruse', 'system', 'fraud', 'plot', 'concept', 'irrigating', 'irrigate', 'drainage', 'water', 'fertilizers', 'dams', 'aqueducts', 'reservoirs', 'agriculture', 'insecticide', 'heptachlor', 'pests', 'poisons', 'solvents', 'chemical', 'alkali_soil', 'alkaline_soil', 'annual_crops', 'available_soil_moisture_(asm)', 'available_soil_moisture_capacity', 'base_period', 'cash_crops', 'coefficient_of_uniformity_(uc)', 'crop_expenditure', 'crop_rotation', 'cropping_intensity', 'cropping_pattern', 'daily_consumptive_use', 'deep_percolation_loss', 'gross_cropped_area_(gca)_(or_cropped_area)', 'gross_farm_income', 'kharif_crops', 'mixed_crop', 'monocropping', 'mulching', 'multiple_cropping', 'net_cropped_area_(net_area_sown)', 'net_income_from_cropped_production', 'operational_holding', 'overlapping_crop', 'perennial_crops', 'rabi_crops', 'relay_cropping', 'single_crop', 'soil_moisture', 'soil_moisture_content', 'soil_moisture_deficit_(_smd_)', 'summer_crop', 'wetland_crop', 'maize', 'ragi', 'blackgram', 'greengram', 'sunflower', 'groundnut', 'fibre_crops', 'sugar_crops', 'forage_crops', 'crop_dieases', 'rice_blast', 'brown_spot', 'loose_smut', 'brown_rust', 'seed', 'scheme']\""
            ],
            "application/vnd.google.colaboratory.intrinsic+json": {
              "type": "string"
            }
          },
          "metadata": {},
          "execution_count": 9
        }
      ]
    },
    {
      "cell_type": "markdown",
      "metadata": {
        "id": "ePGlsTi8PHrX"
      },
      "source": [
        "# Keywords extraction"
      ]
    },
    {
      "cell_type": "code",
      "execution_count": null,
      "metadata": {
        "colab": {
          "base_uri": "https://localhost:8080/"
        },
        "id": "U3n1V6b9P7b_",
        "outputId": "6b6dff1f-73e9-42de-f74c-794a340bceaf"
      },
      "outputs": [
        {
          "output_type": "stream",
          "name": "stdout",
          "text": [
            "Looking in indexes: https://pypi.org/simple, https://us-python.pkg.dev/colab-wheels/public/simple/\n",
            "Collecting keywords\n",
            "  Downloading keywords-0.0.1.zip (3.0 kB)\n",
            "Building wheels for collected packages: keywords\n",
            "  Building wheel for keywords (setup.py) ... \u001b[?25l\u001b[?25hdone\n",
            "  Created wheel for keywords: filename=keywords-0.0.1-py3-none-any.whl size=3209 sha256=899c5e503680078e8989c2a798fc68ebc46d6dd079d25c669f0d872c2eb61e0c\n",
            "  Stored in directory: /root/.cache/pip/wheels/b6/e1/e4/bc7ba64c5a8c3fe1bf3c7197092c2511fe7de2f6c82b4fa027\n",
            "Successfully built keywords\n",
            "Installing collected packages: keywords\n",
            "Successfully installed keywords-0.0.1\n"
          ]
        },
        {
          "output_type": "stream",
          "name": "stderr",
          "text": [
            "[nltk_data] Downloading package stopwords to /root/nltk_data...\n",
            "[nltk_data]   Unzipping corpora/stopwords.zip.\n",
            "[nltk_data] Downloading package averaged_perceptron_tagger to\n",
            "[nltk_data]     /root/nltk_data...\n",
            "[nltk_data]   Unzipping taggers/averaged_perceptron_tagger.zip.\n"
          ]
        },
        {
          "output_type": "execute_result",
          "data": {
            "text/plain": [
              "True"
            ]
          },
          "metadata": {},
          "execution_count": 11
        }
      ],
      "source": [
        "!pip install keywords\n",
        "import nltk\n",
        "nltk.download('stopwords')\n",
        "nltk.download('averaged_perceptron_tagger')"
      ]
    },
    {
      "cell_type": "code",
      "execution_count": null,
      "metadata": {
        "id": "YKy02ekcoI3-"
      },
      "outputs": [],
      "source": [
        "import pandas as pd\n",
        "from keywords import KeyWords\n",
        "from nltk.corpus import stopwords"
      ]
    },
    {
      "cell_type": "code",
      "execution_count": null,
      "metadata": {
        "id": "Y7-aA8ScpBXv"
      },
      "outputs": [],
      "source": [
        "def get_keywords(excel , column):\n",
        "  df=pd.read_excel(excel)\n",
        "  keyword_list=[]\n",
        "\n",
        "  with open('/content/pruned.word2vec.txt', 'r', encoding=\"utf8\") as f1:\n",
        "    corpus_1 = f1.read()\n",
        "\n",
        "  for i in range(len(df)):\n",
        "      data=df[column][i]\n",
        "\n",
        "\n",
        "\n",
        "\n",
        "      stopWords = stopwords.words('english')\n",
        "      keyword = KeyWords(corpus=corpus_1, stop_words=stopWords, alpha=0.8)\n",
        "      d = keyword.get_keywords(data, n=6)\n",
        "      keyword_sub = []\n",
        "      for j in d:\n",
        "        keyword_sub.append(j[0])\n",
        "      keyword_list.append(keyword_sub)\n",
        "  df['keywords'] = keyword_list\n",
        "  return df\n",
        "\n",
        "\n"
      ]
    },
    {
      "cell_type": "code",
      "execution_count": null,
      "metadata": {
        "id": "Pw0qXA4bn_Mj"
      },
      "outputs": [],
      "source": [
        "get_keywords('/content/Farm and Agricukture News scrapped.xlsx' , 'subtitle')\n"
      ]
    },
    {
      "cell_type": "code",
      "source": [
        "corpus_1=\"('mulch', 'disking', 'compost', 'weeds', 'shrubs', 'landscaping', 'gardening', 'planting', 'aeration', 'tilling', 'wheat', 'flour', 'lentils', 'corn', 'sago', 'sorghum', 'grains', 'copra', 'onions', 'bean', 'grain', 'barley', 'oilseed', 'soybeans', 'soybean', 'oilseeds', 'rice', 'potato', 'crops', 'cottonseed', 'cotton', 'forages', 'Soybean', 'soy', 'Soybeans', 'Cotton', 'textile', 'wool', 'bales', 'seeds', 'Seed', 'Seeds', 'ranked', 'round', 'No.', 'bye', 'bracket', 'perilla', 'seedlings', 'fertilizer', 'urea', 'pesticides', 'insecticides', 'chemicals', 'fungicides', 'irrigation', 'agricultural', 'phosphates', 'nitrogen', 'schemes', 'program', 'plan', 'arrangement', 'initiative', 'ruse', 'system', 'fraud', 'plot', 'concept', 'irrigating', 'irrigate', 'drainage', 'water', 'fertilizers', 'dams', 'aqueducts', 'reservoirs', 'agriculture', 'insecticide', 'heptachlor', 'pests', 'poisons', 'solvents', 'chemical', 'alkali_soil', 'alkaline_soil', 'annual_crops', 'available_soil_moisture_(asm)', 'available_soil_moisture_capacity', 'base_period', 'cash_crops', 'coefficient_of_uniformity_(uc)', 'crop_expenditure', 'crop_rotation', 'cropping_intensity', 'cropping_pattern', 'daily_consumptive_use', 'deep_percolation_loss', 'gross_cropped_area_(gca)_(or_cropped_area)', 'gross_farm_income', 'kharif_crops', 'mixed_crop', 'monocropping', 'mulching', 'multiple_cropping', 'net_cropped_area_(net_area_sown)', 'net_income_from_cropped_production', 'operational_holding', 'overlapping_crop', 'perennial_crops', 'rabi_crops', 'relay_cropping', 'single_crop', 'soil_moisture', 'soil_moisture_content', 'soil_moisture_deficit_(_smd_)', 'summer_crop', 'wetland_crop', 'maize', 'ragi', 'blackgram', 'greengram', 'sunflower', 'groundnut', 'fibre_crops', 'sugar_crops', 'forage_crops', 'crop_dieases', 'rice_blast', 'brown_spot', 'loose_smut', 'brown_rust', 'seed', 'scheme')\""
      ],
      "metadata": {
        "id": "PPKzSJg2tWRK"
      },
      "execution_count": null,
      "outputs": []
    },
    {
      "cell_type": "code",
      "execution_count": null,
      "metadata": {
        "colab": {
          "base_uri": "https://localhost:8080/",
          "height": 745
        },
        "id": "WxZEqRLZoM6W",
        "outputId": "a527a403-0c82-4b48-a3f8-9dea54d69c2d"
      },
      "outputs": [
        {
          "output_type": "execute_result",
          "data": {
            "text/plain": [
              "                        media  \\\n",
              "0    The World Economic Forum   \n",
              "1                   Scroll.in   \n",
              "2             Greater Kashmir   \n",
              "3       The Financial Express   \n",
              "4       The Financial Express   \n",
              "..                        ...   \n",
              "357    The New Indian Express   \n",
              "358                 Scroll.in   \n",
              "359                       ORF   \n",
              "360                      USDA   \n",
              "361               ZME Science   \n",
              "\n",
              "                                                 Title  \\\n",
              "0    What is regenerative agriculture and how can i...   \n",
              "1    India should learn from Sri Lanka’s egregious ...   \n",
              "2                                   Thank the farmers!   \n",
              "3    Financial assistance provided for natural farm...   \n",
              "4    Farmers’ income may rise 70% in 7 years throug...   \n",
              "..                                                 ...   \n",
              "357  Karnataka government to study natural farming ...   \n",
              "358  Will India’s digital push in agriculture help ...   \n",
              "359  Australian agriculture amidst droughts: Produc...   \n",
              "360  USDA Announces $35 Million Funding Opportunity...   \n",
              "361  From Japan to Iceland, futuristic vertical far...   \n",
              "\n",
              "                                              subtitle          time  \\\n",
              "0    Climate-smart and regenerative food systems ca...     1 day ago   \n",
              "1    The production-centric intensive agriculture b...     1 day ago   \n",
              "2    Indeed, Agriculture is the mother of all cultu...  23 hours ago   \n",
              "3    “A cabinet note is being prepared for increasi...    6 days ago   \n",
              "4    ... not achieving the target will be the non-i...  23 hours ago   \n",
              "..                                                 ...           ...   \n",
              "357  Agriculture Minister BC Patil said that these ...   04-Apr-2022   \n",
              "358  [it will] give us a pathway to bring digital t...   16-Nov-2021   \n",
              "359  Improvements in agricultural productivity have...   11-Feb-2022   \n",
              "360  WASHINGTON, March 9, 2022 – The U.S. Departmen...   09-Mar-2022   \n",
              "361  Indoor farming is a new and rapidly growing tr...   1 month ago   \n",
              "\n",
              "                                                  link  \\\n",
              "0    https://www.weforum.org/agenda/2022/12/3-indus...   \n",
              "1    https://scroll.in/article/1039930/india-should...   \n",
              "2    https://www.greaterkashmir.com/todays-paper/ed...   \n",
              "3    https://www.financialexpress.com/economy/finan...   \n",
              "4    https://www.financialexpress.com/economy/farme...   \n",
              "..                                                 ...   \n",
              "357  https://www.newindianexpress.com/states/karnat...   \n",
              "358  https://scroll.in/magazine/1009530/will-indias...   \n",
              "359  https://www.orfonline.org/expert-speak/austral...   \n",
              "360  https://www.usda.gov/media/press-releases/2022...   \n",
              "361  https://www.zmescience.com/science/agriculture...   \n",
              "\n",
              "                                              keywords  \n",
              "0    [regenerative food systems, regenerative agric...  \n",
              "1    [production-centric intensive agriculture, bui...  \n",
              "2    [ate today, agriculture, thank, farmers, mothe...  \n",
              "3    [natural farming practices, natural farming, f...  \n",
              "4    [farm reforms, model agriculture, farmers, inc...  \n",
              "..                                                 ...  \n",
              "357  [agriculture minister bc patil, karnataka gove...  \n",
              "358  [agriculture help farmers, agriculture ministr...  \n",
              "359  [australian agriculture amidst droughts, globa...  \n",
              "360  [funding opportunity, farm bill, mandatory fun...  \n",
              "361  [futuristic vertical farms, traditional agricu...  \n",
              "\n",
              "[362 rows x 6 columns]"
            ],
            "text/html": [
              "\n",
              "  <div id=\"df-b75a09d2-200a-4a7f-b317-3d90e0a45e14\">\n",
              "    <div class=\"colab-df-container\">\n",
              "      <div>\n",
              "<style scoped>\n",
              "    .dataframe tbody tr th:only-of-type {\n",
              "        vertical-align: middle;\n",
              "    }\n",
              "\n",
              "    .dataframe tbody tr th {\n",
              "        vertical-align: top;\n",
              "    }\n",
              "\n",
              "    .dataframe thead th {\n",
              "        text-align: right;\n",
              "    }\n",
              "</style>\n",
              "<table border=\"1\" class=\"dataframe\">\n",
              "  <thead>\n",
              "    <tr style=\"text-align: right;\">\n",
              "      <th></th>\n",
              "      <th>media</th>\n",
              "      <th>Title</th>\n",
              "      <th>subtitle</th>\n",
              "      <th>time</th>\n",
              "      <th>link</th>\n",
              "      <th>keywords</th>\n",
              "    </tr>\n",
              "  </thead>\n",
              "  <tbody>\n",
              "    <tr>\n",
              "      <th>0</th>\n",
              "      <td>The World Economic Forum</td>\n",
              "      <td>What is regenerative agriculture and how can i...</td>\n",
              "      <td>Climate-smart and regenerative food systems ca...</td>\n",
              "      <td>1 day ago</td>\n",
              "      <td>https://www.weforum.org/agenda/2022/12/3-indus...</td>\n",
              "      <td>[regenerative food systems, regenerative agric...</td>\n",
              "    </tr>\n",
              "    <tr>\n",
              "      <th>1</th>\n",
              "      <td>Scroll.in</td>\n",
              "      <td>India should learn from Sri Lanka’s egregious ...</td>\n",
              "      <td>The production-centric intensive agriculture b...</td>\n",
              "      <td>1 day ago</td>\n",
              "      <td>https://scroll.in/article/1039930/india-should...</td>\n",
              "      <td>[production-centric intensive agriculture, bui...</td>\n",
              "    </tr>\n",
              "    <tr>\n",
              "      <th>2</th>\n",
              "      <td>Greater Kashmir</td>\n",
              "      <td>Thank the farmers!</td>\n",
              "      <td>Indeed, Agriculture is the mother of all cultu...</td>\n",
              "      <td>23 hours ago</td>\n",
              "      <td>https://www.greaterkashmir.com/todays-paper/ed...</td>\n",
              "      <td>[ate today, agriculture, thank, farmers, mothe...</td>\n",
              "    </tr>\n",
              "    <tr>\n",
              "      <th>3</th>\n",
              "      <td>The Financial Express</td>\n",
              "      <td>Financial assistance provided for natural farm...</td>\n",
              "      <td>“A cabinet note is being prepared for increasi...</td>\n",
              "      <td>6 days ago</td>\n",
              "      <td>https://www.financialexpress.com/economy/finan...</td>\n",
              "      <td>[natural farming practices, natural farming, f...</td>\n",
              "    </tr>\n",
              "    <tr>\n",
              "      <th>4</th>\n",
              "      <td>The Financial Express</td>\n",
              "      <td>Farmers’ income may rise 70% in 7 years throug...</td>\n",
              "      <td>... not achieving the target will be the non-i...</td>\n",
              "      <td>23 hours ago</td>\n",
              "      <td>https://www.financialexpress.com/economy/farme...</td>\n",
              "      <td>[farm reforms, model agriculture, farmers, inc...</td>\n",
              "    </tr>\n",
              "    <tr>\n",
              "      <th>...</th>\n",
              "      <td>...</td>\n",
              "      <td>...</td>\n",
              "      <td>...</td>\n",
              "      <td>...</td>\n",
              "      <td>...</td>\n",
              "      <td>...</td>\n",
              "    </tr>\n",
              "    <tr>\n",
              "      <th>357</th>\n",
              "      <td>The New Indian Express</td>\n",
              "      <td>Karnataka government to study natural farming ...</td>\n",
              "      <td>Agriculture Minister BC Patil said that these ...</td>\n",
              "      <td>04-Apr-2022</td>\n",
              "      <td>https://www.newindianexpress.com/states/karnat...</td>\n",
              "      <td>[agriculture minister bc patil, karnataka gove...</td>\n",
              "    </tr>\n",
              "    <tr>\n",
              "      <th>358</th>\n",
              "      <td>Scroll.in</td>\n",
              "      <td>Will India’s digital push in agriculture help ...</td>\n",
              "      <td>[it will] give us a pathway to bring digital t...</td>\n",
              "      <td>16-Nov-2021</td>\n",
              "      <td>https://scroll.in/magazine/1009530/will-indias...</td>\n",
              "      <td>[agriculture help farmers, agriculture ministr...</td>\n",
              "    </tr>\n",
              "    <tr>\n",
              "      <th>359</th>\n",
              "      <td>ORF</td>\n",
              "      <td>Australian agriculture amidst droughts: Produc...</td>\n",
              "      <td>Improvements in agricultural productivity have...</td>\n",
              "      <td>11-Feb-2022</td>\n",
              "      <td>https://www.orfonline.org/expert-speak/austral...</td>\n",
              "      <td>[australian agriculture amidst droughts, globa...</td>\n",
              "    </tr>\n",
              "    <tr>\n",
              "      <th>360</th>\n",
              "      <td>USDA</td>\n",
              "      <td>USDA Announces $35 Million Funding Opportunity...</td>\n",
              "      <td>WASHINGTON, March 9, 2022 – The U.S. Departmen...</td>\n",
              "      <td>09-Mar-2022</td>\n",
              "      <td>https://www.usda.gov/media/press-releases/2022...</td>\n",
              "      <td>[funding opportunity, farm bill, mandatory fun...</td>\n",
              "    </tr>\n",
              "    <tr>\n",
              "      <th>361</th>\n",
              "      <td>ZME Science</td>\n",
              "      <td>From Japan to Iceland, futuristic vertical far...</td>\n",
              "      <td>Indoor farming is a new and rapidly growing tr...</td>\n",
              "      <td>1 month ago</td>\n",
              "      <td>https://www.zmescience.com/science/agriculture...</td>\n",
              "      <td>[futuristic vertical farms, traditional agricu...</td>\n",
              "    </tr>\n",
              "  </tbody>\n",
              "</table>\n",
              "<p>362 rows × 6 columns</p>\n",
              "</div>\n",
              "      <button class=\"colab-df-convert\" onclick=\"convertToInteractive('df-b75a09d2-200a-4a7f-b317-3d90e0a45e14')\"\n",
              "              title=\"Convert this dataframe to an interactive table.\"\n",
              "              style=\"display:none;\">\n",
              "        \n",
              "  <svg xmlns=\"http://www.w3.org/2000/svg\" height=\"24px\"viewBox=\"0 0 24 24\"\n",
              "       width=\"24px\">\n",
              "    <path d=\"M0 0h24v24H0V0z\" fill=\"none\"/>\n",
              "    <path d=\"M18.56 5.44l.94 2.06.94-2.06 2.06-.94-2.06-.94-.94-2.06-.94 2.06-2.06.94zm-11 1L8.5 8.5l.94-2.06 2.06-.94-2.06-.94L8.5 2.5l-.94 2.06-2.06.94zm10 10l.94 2.06.94-2.06 2.06-.94-2.06-.94-.94-2.06-.94 2.06-2.06.94z\"/><path d=\"M17.41 7.96l-1.37-1.37c-.4-.4-.92-.59-1.43-.59-.52 0-1.04.2-1.43.59L10.3 9.45l-7.72 7.72c-.78.78-.78 2.05 0 2.83L4 21.41c.39.39.9.59 1.41.59.51 0 1.02-.2 1.41-.59l7.78-7.78 2.81-2.81c.8-.78.8-2.07 0-2.86zM5.41 20L4 18.59l7.72-7.72 1.47 1.35L5.41 20z\"/>\n",
              "  </svg>\n",
              "      </button>\n",
              "      \n",
              "  <style>\n",
              "    .colab-df-container {\n",
              "      display:flex;\n",
              "      flex-wrap:wrap;\n",
              "      gap: 12px;\n",
              "    }\n",
              "\n",
              "    .colab-df-convert {\n",
              "      background-color: #E8F0FE;\n",
              "      border: none;\n",
              "      border-radius: 50%;\n",
              "      cursor: pointer;\n",
              "      display: none;\n",
              "      fill: #1967D2;\n",
              "      height: 32px;\n",
              "      padding: 0 0 0 0;\n",
              "      width: 32px;\n",
              "    }\n",
              "\n",
              "    .colab-df-convert:hover {\n",
              "      background-color: #E2EBFA;\n",
              "      box-shadow: 0px 1px 2px rgba(60, 64, 67, 0.3), 0px 1px 3px 1px rgba(60, 64, 67, 0.15);\n",
              "      fill: #174EA6;\n",
              "    }\n",
              "\n",
              "    [theme=dark] .colab-df-convert {\n",
              "      background-color: #3B4455;\n",
              "      fill: #D2E3FC;\n",
              "    }\n",
              "\n",
              "    [theme=dark] .colab-df-convert:hover {\n",
              "      background-color: #434B5C;\n",
              "      box-shadow: 0px 1px 3px 1px rgba(0, 0, 0, 0.15);\n",
              "      filter: drop-shadow(0px 1px 2px rgba(0, 0, 0, 0.3));\n",
              "      fill: #FFFFFF;\n",
              "    }\n",
              "  </style>\n",
              "\n",
              "      <script>\n",
              "        const buttonEl =\n",
              "          document.querySelector('#df-b75a09d2-200a-4a7f-b317-3d90e0a45e14 button.colab-df-convert');\n",
              "        buttonEl.style.display =\n",
              "          google.colab.kernel.accessAllowed ? 'block' : 'none';\n",
              "\n",
              "        async function convertToInteractive(key) {\n",
              "          const element = document.querySelector('#df-b75a09d2-200a-4a7f-b317-3d90e0a45e14');\n",
              "          const dataTable =\n",
              "            await google.colab.kernel.invokeFunction('convertToInteractive',\n",
              "                                                     [key], {});\n",
              "          if (!dataTable) return;\n",
              "\n",
              "          const docLinkHtml = 'Like what you see? Visit the ' +\n",
              "            '<a target=\"_blank\" href=https://colab.research.google.com/notebooks/data_table.ipynb>data table notebook</a>'\n",
              "            + ' to learn more about interactive tables.';\n",
              "          element.innerHTML = '';\n",
              "          dataTable['output_type'] = 'display_data';\n",
              "          await google.colab.output.renderOutput(dataTable, element);\n",
              "          const docLink = document.createElement('div');\n",
              "          docLink.innerHTML = docLinkHtml;\n",
              "          element.appendChild(docLink);\n",
              "        }\n",
              "      </script>\n",
              "    </div>\n",
              "  </div>\n",
              "  "
            ]
          },
          "metadata": {},
          "execution_count": 18
        }
      ],
      "source": [
        "  df=pd.read_excel('/content/Farm and Agricukture News scrapped.xlsx')\n",
        "  keyword_list=[]\n",
        "\n",
        " # with open('/content/pruned.word2vec.txt', 'r', encoding=\"utf8\") as f1:\n",
        "    #corpus_1 = f1.read()\n",
        "\n",
        "  for i in range(len(df)):\n",
        "      data=str(df['Title'][i])+' . '+str(df['subtitle'][i])\n",
        "\n",
        "\n",
        "\n",
        "      stopWords = stopwords.words('english')\n",
        "      keyword = KeyWords(corpus=corpus_1,stop_words=stopWords, alpha=0.6)\n",
        "      d = keyword.get_keywords(data, n=20)\n",
        "      keyword_sub = []\n",
        "      for j in d:\n",
        "        keyword_sub.append(j[0])\n",
        "      keyword_list.append(keyword_sub)\n",
        "  df['keywords']= keyword_list\n",
        "  df\n"
      ]
    },
    {
      "cell_type": "code",
      "execution_count": null,
      "metadata": {
        "id": "laLlZPNgAkP1"
      },
      "outputs": [],
      "source": [
        "df.to_excel('/content/Farm and AG 20.xlsx')"
      ]
    }
  ],
  "metadata": {
    "colab": {
      "provenance": []
    },
    "gpuClass": "standard",
    "kernelspec": {
      "display_name": "Python 3",
      "language": "python",
      "name": "python3"
    },
    "language_info": {
      "codemirror_mode": {
        "name": "ipython",
        "version": 3
      },
      "file_extension": ".py",
      "mimetype": "text/x-python",
      "name": "python",
      "nbconvert_exporter": "python",
      "pygments_lexer": "ipython3",
      "version": "3.6.5"
    }
  },
  "nbformat": 4,
  "nbformat_minor": 0
}